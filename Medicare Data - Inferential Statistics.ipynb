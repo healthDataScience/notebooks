{
 "cells": [
  {
   "cell_type": "markdown",
   "metadata": {},
   "source": [
    "# A Statistical Analysis of Medicare Claims Data"
   ]
  },
  {
   "cell_type": "markdown",
   "metadata": {},
   "source": [
    "Medicare is single-payer health insurance program provided by the government mainly for Americans aged 65 and older. It is an important social insurance program with more than 50 million people. \n",
    "\n",
    "In this notebook, we will look at the publicly available claims data from the Center of Medicare services. The data can be downloaded from their [website](https://www.cms.gov/Research-Statistics-Data-and-Systems/Downloadable-Public-Use-Files/SynPUFs/DE_Syn_PUF.html) where claims between 2008 and 2010 are split into 20 samples. Since the whole data is quite large, we will only focus on one of the samples (Sample 1).\n",
    "\n",
    "This is a continuation of a previous [exploratory analysis](https://github.com/bhimmetoglu/springboard-exercises/blob/master/data_story_telling/Medicare%20Data%20Exploration.ipynb). \n",
    "\n"
   ]
  },
  {
   "cell_type": "markdown",
   "metadata": {},
   "source": [
    "## Data loading and cleaning\n",
    "\n",
    "This part is idential to the previous notebook. "
   ]
  },
  {
   "cell_type": "code",
   "execution_count": 1,
   "metadata": {
    "collapsed": true
   },
   "outputs": [],
   "source": [
    "# imports\n",
    "import numpy as np\n",
    "import pandas as pd\n",
    "from scipy import stats\n",
    "import seaborn as sns\n",
    "import matplotlib.pyplot as plt\n",
    "import datetime\n",
    "%matplotlib inline\n",
    "sns.set_style('whitegrid')\n",
    "\n",
    "# Load Beneficiary data\n",
    "beneficiaries = pd.read_csv(\"./data/DE1_0_2008_Beneficiary_Summary_File_Sample_1.zip\")\n",
    "\n",
    "## Rename some columns\n",
    "rename_dict = {\"BENE_BIRTH_DT\":\"birthday\", \"BENE_DEATH_DT\":\"deathday\", \"BENE_SEX_IDENT_CD\":\"sex\",\n",
    "               \"BENE_RACE_CD\":\"race\", \"BENE_ESRD_IND\":\"renal_disease\", \"SP_STATE_CODE\":\"state\",\n",
    "               \"BENE_COUNTY_CD\":\"county\", \"BENE_HI_CVRAGE_TOT_MONS\":\"partA\", \n",
    "               \"BENE_SMI_CVRAGE_TOT_MONS\":\"partB\", \"BENE_HMO_CVRAGE_TOT_MONS\":\"hmo\",\n",
    "               \"PLAN_CVRG_MOS_NUM\":\"partD\", \"SP_ALZHDMTA\":\"alzheimer\", \"SP_CHF\":\"hearth_failure\",\n",
    "               \"SP_CHRNKIDN\":\"kidney_disease\", \"SP_CNCR\":\"cancer\", \"SP_COPD\":\"pulmanory_disease\",\n",
    "               \"SP_DEPRESSN\":\"depression\",\"SP_DIABETES\":\"diabetes\",\"SP_ISCHMCHT\":\"ismechic_hearth\",\n",
    "               \"SP_OSTEOPRS\":\"osteoporosis\", \"SP_RA_OA\":\"rheumatoid\",\"SP_STRKETIA\":\"stroke\"}\n",
    "\n",
    "## List of conditions\n",
    "diseases = ['renal_disease', 'alzheimer', 'hearth_failure', 'kidney_disease', 'cancer', 'pulmanory_disease',\n",
    "            'depression', 'diabetes', 'ismechic_hearth', 'osteoporosis', 'rheumatoid','stroke']\n",
    "\n",
    "beneficiaries = beneficiaries.rename(columns=rename_dict)\n",
    "\n",
    "# One-hot encoding\n",
    "beneficiaries['renal_disease'] = beneficiaries['renal_disease'].map(lambda x: 1 if x==\"Y\" else 0)\n",
    "\n",
    "for disease in diseases[1:]:\n",
    "    beneficiaries[disease] = beneficiaries[disease].map(lambda x: 1 if x==1 else 0)\n",
    "    \n",
    "## Process Dates\n",
    "# Birth dates\n",
    "beneficiaries['birthday'] = pd.to_datetime(beneficiaries['birthday'].astype(str))\n",
    "\n",
    "# Death dates: first get dead beneficiaries and then set their death time\n",
    "dead_bene = beneficiaries[~pd.isnull(beneficiaries['deathday'])]['deathday'].astype(int).astype(str)\n",
    "beneficiaries.loc[dead_bene.index,'deathday'] = pd.to_datetime(dead_bene)\n",
    "\n",
    "## Process Payments\n",
    "# Inpatient\n",
    "beneficiaries['tot_inpatient'] = beneficiaries['MEDREIMB_IP'] + beneficiaries['BENRES_IP'] + beneficiaries['PPPYMT_IP']\n",
    "\n",
    "# Outpatient\n",
    "beneficiaries['tot_outpatient'] = beneficiaries['MEDREIMB_OP'] + beneficiaries['BENRES_OP'] + beneficiaries['PPPYMT_OP']\n",
    "\n",
    "# Carrier\n",
    "beneficiaries['tot_carrier'] = beneficiaries['MEDREIMB_CAR'] + beneficiaries['BENRES_CAR'] + beneficiaries['PPPYMT_CAR']\n",
    "\n",
    "## Demographic features\n",
    "# Convert to one-hot: M=1/F=0\n",
    "beneficiaries['sex'] = beneficiaries['sex'].map(lambda x: 1 if x==1 else 0)\n",
    "\n",
    "# Convert race encoding into clear text\n",
    "def race_code(x):\n",
    "    if (x == 1):\n",
    "        return \"white\"\n",
    "    elif (x==2):\n",
    "        return \"black\"\n",
    "    elif (x == 5):\n",
    "        return \"hispanic\"\n",
    "    elif (x == 3):\n",
    "        return \"other\"\n",
    "\n",
    "beneficiaries['race'] = beneficiaries['race'].map(lambda x: race_code(x))"
   ]
  },
  {
   "cell_type": "markdown",
   "metadata": {},
   "source": [
    "## Statistical Analysis\n",
    "\n",
    "\n",
    "### Analysis of costs by condition\n",
    "Let's first look at top two diseases with highest costs of treatment: `stroke` and `cancer`. The null hypothesis is that there is no difference between the average costs: $ H_0:\\,\\,{\\bar X} = {\\bar Y}$ where X reprsents `stroke` and Y represents `cancer`. The alternative is that the average costs are different. \n",
    "\n",
    "\n",
    "While the costs are not normally distributed, their averages are nearly normally distributed by CLT. Therefore, we can use the t-test (or z-test):"
   ]
  },
  {
   "cell_type": "code",
   "execution_count": 2,
   "metadata": {
    "collapsed": false
   },
   "outputs": [],
   "source": [
    "df_stroke = beneficiaries[beneficiaries['stroke'] == 1]\n",
    "stroke_costs = df_stroke['tot_carrier'] + df_stroke['tot_inpatient'] + df_stroke['tot_outpatient']\n",
    "\n",
    "df_cancer = beneficiaries[beneficiaries['cancer'] == 1]\n",
    "cancer_costs = df_cancer['tot_carrier'] + df_cancer['tot_inpatient'] + df_cancer['tot_outpatient']"
   ]
  },
  {
   "cell_type": "code",
   "execution_count": 3,
   "metadata": {
    "collapsed": false
   },
   "outputs": [
    {
     "data": {
      "text/plain": [
       "Ttest_indResult(statistic=12.555963587226978, pvalue=6.9760597642885558e-36)"
      ]
     },
     "execution_count": 3,
     "metadata": {},
     "output_type": "execute_result"
    }
   ],
   "source": [
    "stats.ttest_ind(stroke_costs, cancer_costs, equal_var=False)"
   ]
  },
  {
   "cell_type": "markdown",
   "metadata": {},
   "source": [
    "The p-value is very small, so we reject the null hypothesis. This is what we have also seen in the exploratory analysis: There is a difference between the mean costs of stroke and cancer.\n",
    "\n",
    "Let's perform another test using bootstrap resampling and create confidence intervals for the mean and the median difference between cancer and stroke costs:"
   ]
  },
  {
   "cell_type": "code",
   "execution_count": 4,
   "metadata": {
    "collapsed": true
   },
   "outputs": [],
   "source": [
    "# Set number of simulations and resmaple from stroke & cancer\n",
    "nsim = 1000\n",
    "medians_ = np.zeros(nsim)\n",
    "means_ = np.zeros(nsim)\n",
    "for s in range(nsim):\n",
    "    stroke_rs = np.random.choice(stroke_costs, size=len(stroke_costs), replace=True)\n",
    "    cancer_rs = np.random.choice(cancer_costs, size=len(cancer_costs), replace=True)\n",
    "    means_[s] = np.mean(stroke_rs) - np.mean(cancer_costs)\n",
    "    medians_[s] = np.median(stroke_rs) - np.median(cancer_costs)\n",
    "    "
   ]
  },
  {
   "cell_type": "markdown",
   "metadata": {},
   "source": [
    "Using the resamples, we compute the bootsrap estimate of ${\\rm med}[X-Y$] and ${\\hat se}_{{\\rm med}[X-Y]}$. Then, we construct a 95% confidence interval (CI):"
   ]
  },
  {
   "cell_type": "code",
   "execution_count": 5,
   "metadata": {
    "collapsed": false
   },
   "outputs": [
    {
     "name": "stdout",
     "output_type": "stream",
     "text": [
      "CI: median (stroke-cancer) cost: [2931.43,4135.00]\n"
     ]
    }
   ],
   "source": [
    "# Difference of median costs\n",
    "medians_avg = np.mean(medians_) # Bootstrap estimate of median differences\n",
    "medians_std = np.std(medians_)  # Bootstrap estimate of standard err. of median differences\n",
    "ts = (medians_ - medians_avg)/medians_std \n",
    "low = medians_avg - np.percentile(ts,97.5)*medians_std\n",
    "high = medians_avg + np.percentile(ts,97.5)*medians_std\n",
    "print(\"CI: median (stroke-cancer) cost: [{:.2f},{:.2f}]\".format(low,high))"
   ]
  },
  {
   "cell_type": "markdown",
   "metadata": {},
   "source": [
    "Now we do the same for the boostrap estimate of ${\\bar X}-{\\bar Y}$ and ${\\bar se}_{{\\bar X}-{\\bar Y}}$"
   ]
  },
  {
   "cell_type": "code",
   "execution_count": 6,
   "metadata": {
    "collapsed": false,
    "scrolled": true
   },
   "outputs": [
    {
     "name": "stdout",
     "output_type": "stream",
     "text": [
      "CI: mean (stroke-cancer) cost: [4513.29,5802.20]\n"
     ]
    }
   ],
   "source": [
    "# Difference of mean costs\n",
    "means_avg = np.mean(means_) # Bootstrap estimate of mean differences\n",
    "means_std = np.std(means_)  # Bootstrap estimate of standard err. of median differences\n",
    "ts = (means_ - means_avg)/means_std\n",
    "low = means_avg - np.percentile(ts,97.5)*means_std\n",
    "high = means_avg + np.percentile(ts,97.5)*means_std\n",
    "print(\"CI: mean (stroke-cancer) cost: [{:.2f},{:.2f}]\".format(low,high))"
   ]
  },
  {
   "cell_type": "markdown",
   "metadata": {},
   "source": [
    "These clearly show that the mean and median cost of stroke is higher than that of cancer treamnet. Now, let's look at some effect sizes to check whether this is actually significant.\n",
    "\n",
    "We can use overlap and Cohen's d as an effect size:"
   ]
  },
  {
   "cell_type": "code",
   "execution_count": 7,
   "metadata": {
    "collapsed": false
   },
   "outputs": [
    {
     "name": "stdout",
     "output_type": "stream",
     "text": [
      "Misclassification rate = 0.45\n",
      "Cohen's d = 0.23\n"
     ]
    }
   ],
   "source": [
    "# Compute threshold and overlap\n",
    "s_stroke = stroke_costs.std()\n",
    "s_cancer = cancer_costs.std()\n",
    "mu_stroke = stroke_costs.mean()\n",
    "mu_cancer = cancer_costs.mean()\n",
    "n_stroke = len(stroke_costs)\n",
    "n_cancer = len(cancer_costs)\n",
    "\n",
    "# Pooled variance\n",
    "S_p = np.sqrt( ((n_stroke-1)*s_stroke**2 + (n_cancer-1)*s_cancer**2 ) / (n_stroke+n_cancer-2) )\n",
    "\n",
    "threshold = (s_stroke * mu_cancer + s_cancer * mu_stroke)/(s_cancer + s_stroke)\n",
    "stroke_below = np.sum(stroke_costs.values < threshold)\n",
    "cancer_above = np.sum(cancer_costs > threshold)\n",
    "\n",
    "stroke_overlap = stroke_below / n_stroke\n",
    "cancer_overlap = cancer_above / n_cancer\n",
    "misclassification_rate = 0.5*(stroke_overlap + cancer_overlap)\n",
    "print(\"Misclassification rate = {:.2f}\".format(misclassification_rate))\n",
    "\n",
    "# Cohen's d\n",
    "d = (mu_stroke - mu_cancer)/S_p\n",
    "print(\"Cohen's d = {:.2f}\".format(d))"
   ]
  },
  {
   "cell_type": "markdown",
   "metadata": {},
   "source": [
    "These effect sizes are small. This shows that while the statistical tests provide evidence for a larger cost for stroke than cancer, the difference may not be very significant."
   ]
  },
  {
   "cell_type": "markdown",
   "metadata": {},
   "source": [
    "### Analysis of conditions by gender\n",
    "\n",
    "Let's consider how medical conditions are distributed among male and female patients."
   ]
  },
  {
   "cell_type": "code",
   "execution_count": 8,
   "metadata": {
    "collapsed": false
   },
   "outputs": [
    {
     "data": {
      "text/html": [
       "<div>\n",
       "<table border=\"1\" class=\"dataframe\">\n",
       "  <thead>\n",
       "    <tr style=\"text-align: right;\">\n",
       "      <th>sex</th>\n",
       "      <th>0</th>\n",
       "      <th>1</th>\n",
       "    </tr>\n",
       "    <tr>\n",
       "      <th>disease</th>\n",
       "      <th></th>\n",
       "      <th></th>\n",
       "    </tr>\n",
       "  </thead>\n",
       "  <tbody>\n",
       "    <tr>\n",
       "      <th>alzheimer</th>\n",
       "      <td>12943</td>\n",
       "      <td>9467</td>\n",
       "    </tr>\n",
       "    <tr>\n",
       "      <th>cancer</th>\n",
       "      <td>4123</td>\n",
       "      <td>3292</td>\n",
       "    </tr>\n",
       "    <tr>\n",
       "      <th>depression</th>\n",
       "      <td>14568</td>\n",
       "      <td>10272</td>\n",
       "    </tr>\n",
       "    <tr>\n",
       "      <th>diabetes</th>\n",
       "      <td>25499</td>\n",
       "      <td>18561</td>\n",
       "    </tr>\n",
       "    <tr>\n",
       "      <th>hearth_failure</th>\n",
       "      <td>19046</td>\n",
       "      <td>14109</td>\n",
       "    </tr>\n",
       "    <tr>\n",
       "      <th>ismechic_hearth</th>\n",
       "      <td>27966</td>\n",
       "      <td>20976</td>\n",
       "    </tr>\n",
       "    <tr>\n",
       "      <th>kidney_disease</th>\n",
       "      <td>10729</td>\n",
       "      <td>7957</td>\n",
       "    </tr>\n",
       "    <tr>\n",
       "      <th>osteoporosis</th>\n",
       "      <td>11858</td>\n",
       "      <td>8319</td>\n",
       "    </tr>\n",
       "    <tr>\n",
       "      <th>pulmanory_disease</th>\n",
       "      <td>9095</td>\n",
       "      <td>6648</td>\n",
       "    </tr>\n",
       "    <tr>\n",
       "      <th>renal_disease</th>\n",
       "      <td>4733</td>\n",
       "      <td>3528</td>\n",
       "    </tr>\n",
       "    <tr>\n",
       "      <th>rheumatoid</th>\n",
       "      <td>10438</td>\n",
       "      <td>7478</td>\n",
       "    </tr>\n",
       "    <tr>\n",
       "      <th>stroke</th>\n",
       "      <td>2925</td>\n",
       "      <td>2298</td>\n",
       "    </tr>\n",
       "  </tbody>\n",
       "</table>\n",
       "</div>"
      ],
      "text/plain": [
       "sex                    0      1\n",
       "disease                        \n",
       "alzheimer          12943   9467\n",
       "cancer              4123   3292\n",
       "depression         14568  10272\n",
       "diabetes           25499  18561\n",
       "hearth_failure     19046  14109\n",
       "ismechic_hearth    27966  20976\n",
       "kidney_disease     10729   7957\n",
       "osteoporosis       11858   8319\n",
       "pulmanory_disease   9095   6648\n",
       "renal_disease       4733   3528\n",
       "rheumatoid         10438   7478\n",
       "stroke              2925   2298"
      ]
     },
     "execution_count": 8,
     "metadata": {},
     "output_type": "execute_result"
    }
   ],
   "source": [
    "df = beneficiaries[diseases + ['sex']]\n",
    "df2 = pd.melt(df, value_vars=diseases, value_name = 'has_disease', var_name='disease', id_vars = 'sex')\n",
    "df3 = df2.groupby(['sex','disease'])['has_disease'].sum().unstack(0)\n",
    "df3"
   ]
  },
  {
   "cell_type": "markdown",
   "metadata": {},
   "source": [
    "Now, let's check whether there is an actual difference between the distribution of diseases between male (coded 0) and female (coded 1) patients. \n",
    "\n",
    "Our null hypothesis is that the probability of all the diseases are equal between male and female. The alternative is that at least two are not equal. We can apply the chi-square test:"
   ]
  },
  {
   "cell_type": "code",
   "execution_count": 9,
   "metadata": {
    "collapsed": false
   },
   "outputs": [
    {
     "name": "stdout",
     "output_type": "stream",
     "text": [
      "P-value = 8.29e-07\n"
     ]
    }
   ],
   "source": [
    "chi2, p_val, dof, _ = stats.chi2_contingency(np.array(df3.values))\n",
    "print(\"P-value = {:.2e}\".format(p_val))"
   ]
  },
  {
   "cell_type": "markdown",
   "metadata": {},
   "source": [
    "The p-value is very small, thus we reject the null hypothesis. Below, we will look at effect sizes for ismechic hearth disease and diabetes. "
   ]
  },
  {
   "cell_type": "markdown",
   "metadata": {},
   "source": [
    "### Analysis of conditions by race\n",
    "\n",
    "Let's apply the same test we used for male/female difference to distribution of diseases among races:"
   ]
  },
  {
   "cell_type": "code",
   "execution_count": 11,
   "metadata": {
    "collapsed": false
   },
   "outputs": [
    {
     "data": {
      "text/html": [
       "<div>\n",
       "<table border=\"1\" class=\"dataframe\">\n",
       "  <thead>\n",
       "    <tr style=\"text-align: right;\">\n",
       "      <th>race</th>\n",
       "      <th>black</th>\n",
       "      <th>hispanic</th>\n",
       "      <th>other</th>\n",
       "      <th>white</th>\n",
       "    </tr>\n",
       "    <tr>\n",
       "      <th>disease</th>\n",
       "      <th></th>\n",
       "      <th></th>\n",
       "      <th></th>\n",
       "      <th></th>\n",
       "    </tr>\n",
       "  </thead>\n",
       "  <tbody>\n",
       "    <tr>\n",
       "      <th>alzheimer</th>\n",
       "      <td>2203</td>\n",
       "      <td>474</td>\n",
       "      <td>755</td>\n",
       "      <td>18978</td>\n",
       "    </tr>\n",
       "    <tr>\n",
       "      <th>cancer</th>\n",
       "      <td>685</td>\n",
       "      <td>123</td>\n",
       "      <td>219</td>\n",
       "      <td>6388</td>\n",
       "    </tr>\n",
       "    <tr>\n",
       "      <th>depression</th>\n",
       "      <td>2546</td>\n",
       "      <td>567</td>\n",
       "      <td>849</td>\n",
       "      <td>20878</td>\n",
       "    </tr>\n",
       "    <tr>\n",
       "      <th>diabetes</th>\n",
       "      <td>4294</td>\n",
       "      <td>935</td>\n",
       "      <td>1553</td>\n",
       "      <td>37278</td>\n",
       "    </tr>\n",
       "    <tr>\n",
       "      <th>hearth_failure</th>\n",
       "      <td>3297</td>\n",
       "      <td>682</td>\n",
       "      <td>1072</td>\n",
       "      <td>28104</td>\n",
       "    </tr>\n",
       "    <tr>\n",
       "      <th>ismechic_hearth</th>\n",
       "      <td>4706</td>\n",
       "      <td>988</td>\n",
       "      <td>1635</td>\n",
       "      <td>41613</td>\n",
       "    </tr>\n",
       "    <tr>\n",
       "      <th>kidney_disease</th>\n",
       "      <td>1972</td>\n",
       "      <td>355</td>\n",
       "      <td>584</td>\n",
       "      <td>15775</td>\n",
       "    </tr>\n",
       "    <tr>\n",
       "      <th>osteoporosis</th>\n",
       "      <td>1900</td>\n",
       "      <td>372</td>\n",
       "      <td>682</td>\n",
       "      <td>17223</td>\n",
       "    </tr>\n",
       "    <tr>\n",
       "      <th>pulmanory_disease</th>\n",
       "      <td>1566</td>\n",
       "      <td>332</td>\n",
       "      <td>545</td>\n",
       "      <td>13300</td>\n",
       "    </tr>\n",
       "    <tr>\n",
       "      <th>renal_disease</th>\n",
       "      <td>914</td>\n",
       "      <td>177</td>\n",
       "      <td>261</td>\n",
       "      <td>6909</td>\n",
       "    </tr>\n",
       "    <tr>\n",
       "      <th>rheumatoid</th>\n",
       "      <td>1646</td>\n",
       "      <td>356</td>\n",
       "      <td>556</td>\n",
       "      <td>15358</td>\n",
       "    </tr>\n",
       "    <tr>\n",
       "      <th>stroke</th>\n",
       "      <td>586</td>\n",
       "      <td>114</td>\n",
       "      <td>140</td>\n",
       "      <td>4383</td>\n",
       "    </tr>\n",
       "  </tbody>\n",
       "</table>\n",
       "</div>"
      ],
      "text/plain": [
       "race               black  hispanic  other  white\n",
       "disease                                         \n",
       "alzheimer           2203       474    755  18978\n",
       "cancer               685       123    219   6388\n",
       "depression          2546       567    849  20878\n",
       "diabetes            4294       935   1553  37278\n",
       "hearth_failure      3297       682   1072  28104\n",
       "ismechic_hearth     4706       988   1635  41613\n",
       "kidney_disease      1972       355    584  15775\n",
       "osteoporosis        1900       372    682  17223\n",
       "pulmanory_disease   1566       332    545  13300\n",
       "renal_disease        914       177    261   6909\n",
       "rheumatoid          1646       356    556  15358\n",
       "stroke               586       114    140   4383"
      ]
     },
     "execution_count": 11,
     "metadata": {},
     "output_type": "execute_result"
    }
   ],
   "source": [
    "df = beneficiaries[diseases + ['race']]\n",
    "df2 = pd.melt(df, value_vars=diseases, value_name = 'has_disease', var_name='disease', id_vars = 'race')\n",
    "df3 = df2.groupby(['race','disease'])['has_disease'].sum().unstack(0)\n",
    "df3"
   ]
  },
  {
   "cell_type": "code",
   "execution_count": 12,
   "metadata": {
    "collapsed": false
   },
   "outputs": [
    {
     "name": "stdout",
     "output_type": "stream",
     "text": [
      "P-value = 8.78e-10\n"
     ]
    }
   ],
   "source": [
    "chi2, p_val, dof, _ = stats.chi2_contingency(np.array(df3.values))\n",
    "print(\"P-value = {:.2e}\".format(p_val))"
   ]
  },
  {
   "cell_type": "markdown",
   "metadata": {},
   "source": [
    "Again, we reject the null hypothesis and at least two diseases are distributed differently between the races. Below, we will look at effect sizes for ismechic hearth disease and diabetes. "
   ]
  },
  {
   "cell_type": "markdown",
   "metadata": {},
   "source": [
    "### Analsysis of ismechic hearth disease and diabetes by gender\n",
    "\n",
    "Let's now concentrate on ismechic heart disease and diabetes, the top two medical conditions.\n",
    "\n",
    "First let's look at **ismechic heart disease** :"
   ]
  },
  {
   "cell_type": "code",
   "execution_count": 13,
   "metadata": {
    "collapsed": false
   },
   "outputs": [
    {
     "data": {
      "text/html": [
       "<div>\n",
       "<table border=\"1\" class=\"dataframe\">\n",
       "  <thead>\n",
       "    <tr style=\"text-align: right;\">\n",
       "      <th></th>\n",
       "      <th>disease</th>\n",
       "      <th>no_disease</th>\n",
       "    </tr>\n",
       "    <tr>\n",
       "      <th>sex</th>\n",
       "      <th></th>\n",
       "      <th></th>\n",
       "    </tr>\n",
       "  </thead>\n",
       "  <tbody>\n",
       "    <tr>\n",
       "      <th>0</th>\n",
       "      <td>27966</td>\n",
       "      <td>36381</td>\n",
       "    </tr>\n",
       "    <tr>\n",
       "      <th>1</th>\n",
       "      <td>20976</td>\n",
       "      <td>31029</td>\n",
       "    </tr>\n",
       "  </tbody>\n",
       "</table>\n",
       "</div>"
      ],
      "text/plain": [
       "     disease  no_disease\n",
       "sex                     \n",
       "0      27966       36381\n",
       "1      20976       31029"
      ]
     },
     "execution_count": 13,
     "metadata": {},
     "output_type": "execute_result"
    }
   ],
   "source": [
    "df = beneficiaries[['ismechic_hearth' , 'sex']]\n",
    "s1 = df.groupby('sex')['ismechic_hearth'].sum()\n",
    "s2 = df.groupby('sex').size()\n",
    "df2 = pd.DataFrame({'disease':s1,'no_disease':s2-s1})\n",
    "df2"
   ]
  },
  {
   "cell_type": "markdown",
   "metadata": {},
   "source": [
    "Let's apply the two sample binomial test. The null hypothesis is that there is no difference between the probabilitis of ismechic hearth disease between males and females."
   ]
  },
  {
   "cell_type": "code",
   "execution_count": 14,
   "metadata": {
    "collapsed": false
   },
   "outputs": [
    {
     "name": "stdout",
     "output_type": "stream",
     "text": [
      "Test statistic = 10.76\n"
     ]
    }
   ],
   "source": [
    "n_m = s2[0]\n",
    "n_f = s2[1]\n",
    "hat_p_m = df2.loc[0]['disease']/n_m\n",
    "hat_p_f = df2.loc[1]['disease']/n_f\n",
    "\n",
    "se = np.sqrt(hat_p_m*(1-hat_p_m)/n_m + hat_p_f*(1-hat_p_f)/n_f)\n",
    "TS = ( hat_p_m - hat_p_f )/se\n",
    "print(\"Test statistic = {:.2f}\".format(TS))"
   ]
  },
  {
   "cell_type": "code",
   "execution_count": 15,
   "metadata": {
    "collapsed": false,
    "scrolled": true
   },
   "outputs": [
    {
     "name": "stdout",
     "output_type": "stream",
     "text": [
      "p-value = 2.71e-27\n"
     ]
    }
   ],
   "source": [
    "p_val = stats.norm.sf(TS)\n",
    "print(\"p-value = {:.2e}\".format(p_val))"
   ]
  },
  {
   "cell_type": "markdown",
   "metadata": {},
   "source": [
    "so we can reject the null hypothesis. Male patients seem to have higher rates of ismechic hearth disease than female patients. Let's also compute the estimate for the odds ratio:\n",
    "\n",
    "$$ OR = \\frac{p_m/(1-p_m)}{p_f/(1-p_f)} $$"
   ]
  },
  {
   "cell_type": "markdown",
   "metadata": {},
   "source": [
    "where $p_{m(f)}$ is the probability that a (fe)male patient has disease."
   ]
  },
  {
   "cell_type": "code",
   "execution_count": 16,
   "metadata": {
    "collapsed": false
   },
   "outputs": [
    {
     "data": {
      "text/plain": [
       "1.1371056726305639"
      ]
     },
     "execution_count": 16,
     "metadata": {},
     "output_type": "execute_result"
    }
   ],
   "source": [
    "odds_ratio = (hat_p_m/(1-hat_p_m))/(hat_p_f/(1-hat_p_f))\n",
    "odds_ratio"
   ]
  },
  {
   "cell_type": "markdown",
   "metadata": {},
   "source": [
    "meaning that male patients are 1.14 times more likely to have ismechic hearth disease than females. This is not necessarily a very significant difference.\n",
    "\n",
    "Now let's do the same exercise for **diabetes** :"
   ]
  },
  {
   "cell_type": "code",
   "execution_count": 17,
   "metadata": {
    "collapsed": false
   },
   "outputs": [
    {
     "data": {
      "text/html": [
       "<div>\n",
       "<table border=\"1\" class=\"dataframe\">\n",
       "  <thead>\n",
       "    <tr style=\"text-align: right;\">\n",
       "      <th></th>\n",
       "      <th>disease</th>\n",
       "      <th>no_disease</th>\n",
       "    </tr>\n",
       "    <tr>\n",
       "      <th>sex</th>\n",
       "      <th></th>\n",
       "      <th></th>\n",
       "    </tr>\n",
       "  </thead>\n",
       "  <tbody>\n",
       "    <tr>\n",
       "      <th>0</th>\n",
       "      <td>25499</td>\n",
       "      <td>38848</td>\n",
       "    </tr>\n",
       "    <tr>\n",
       "      <th>1</th>\n",
       "      <td>18561</td>\n",
       "      <td>33444</td>\n",
       "    </tr>\n",
       "  </tbody>\n",
       "</table>\n",
       "</div>"
      ],
      "text/plain": [
       "     disease  no_disease\n",
       "sex                     \n",
       "0      25499       38848\n",
       "1      18561       33444"
      ]
     },
     "execution_count": 17,
     "metadata": {},
     "output_type": "execute_result"
    }
   ],
   "source": [
    "df = beneficiaries[['diabetes' , 'sex']]\n",
    "s1 = df.groupby('sex')['diabetes'].sum()\n",
    "s2 = df.groupby('sex').size()\n",
    "df2 = pd.DataFrame({'disease':s1,'no_disease':s2-s1})\n",
    "df2"
   ]
  },
  {
   "cell_type": "code",
   "execution_count": 18,
   "metadata": {
    "collapsed": false
   },
   "outputs": [
    {
     "name": "stdout",
     "output_type": "stream",
     "text": [
      "Test statistic = 13.80\n"
     ]
    }
   ],
   "source": [
    "n_m = s2[0]\n",
    "n_f = s2[1]\n",
    "hat_p_m = df2.loc[0]['disease']/n_m\n",
    "hat_p_f = df2.loc[1]['disease']/n_f\n",
    "\n",
    "se = np.sqrt(hat_p_m*(1-hat_p_m)/n_m + hat_p_f*(1-hat_p_f)/n_f)\n",
    "TS = ( hat_p_m - hat_p_f )/se\n",
    "print(\"Test statistic = {:.2f}\".format(TS))"
   ]
  },
  {
   "cell_type": "code",
   "execution_count": 19,
   "metadata": {
    "collapsed": false
   },
   "outputs": [
    {
     "name": "stdout",
     "output_type": "stream",
     "text": [
      "p-value = 1.19e-43\n"
     ]
    }
   ],
   "source": [
    "p_val = stats.norm.sf(TS)\n",
    "print(\"p-value = {:.2e}\".format(p_val))"
   ]
  },
  {
   "cell_type": "markdown",
   "metadata": {},
   "source": [
    "so we can reject the null hypothesis. Male patients seem to have higher rates of diabetes than female patients. Let's also compute the estimate for the odds ratio:"
   ]
  },
  {
   "cell_type": "code",
   "execution_count": 20,
   "metadata": {
    "collapsed": false,
    "scrolled": true
   },
   "outputs": [
    {
     "data": {
      "text/plain": [
       "1.1826910979310661"
      ]
     },
     "execution_count": 20,
     "metadata": {},
     "output_type": "execute_result"
    }
   ],
   "source": [
    "odds_ratio = (hat_p_m/(1-hat_p_m))/(hat_p_f/(1-hat_p_f))\n",
    "odds_ratio"
   ]
  },
  {
   "cell_type": "markdown",
   "metadata": {},
   "source": [
    "meaning that male patients are 1.18 times more likely to have diabetes than females. Again, this is not necessarily a very significant difference."
   ]
  },
  {
   "cell_type": "markdown",
   "metadata": {},
   "source": [
    "### Analsysis of ismechic hearth disease and diabetes by race\n",
    "\n",
    "Let's repeat the same exercise for investigating the distributions of these conditions between races:\n",
    "\n",
    "First, we look at **ismechic heart disease** :"
   ]
  },
  {
   "cell_type": "code",
   "execution_count": 21,
   "metadata": {
    "collapsed": false
   },
   "outputs": [
    {
     "data": {
      "text/html": [
       "<div>\n",
       "<table border=\"1\" class=\"dataframe\">\n",
       "  <thead>\n",
       "    <tr style=\"text-align: right;\">\n",
       "      <th></th>\n",
       "      <th>disease</th>\n",
       "      <th>no_disease</th>\n",
       "    </tr>\n",
       "    <tr>\n",
       "      <th>race</th>\n",
       "      <th></th>\n",
       "      <th></th>\n",
       "    </tr>\n",
       "  </thead>\n",
       "  <tbody>\n",
       "    <tr>\n",
       "      <th>black</th>\n",
       "      <td>4706</td>\n",
       "      <td>7637</td>\n",
       "    </tr>\n",
       "    <tr>\n",
       "      <th>hispanic</th>\n",
       "      <td>988</td>\n",
       "      <td>1741</td>\n",
       "    </tr>\n",
       "    <tr>\n",
       "      <th>other</th>\n",
       "      <td>1635</td>\n",
       "      <td>3296</td>\n",
       "    </tr>\n",
       "    <tr>\n",
       "      <th>white</th>\n",
       "      <td>41613</td>\n",
       "      <td>54736</td>\n",
       "    </tr>\n",
       "  </tbody>\n",
       "</table>\n",
       "</div>"
      ],
      "text/plain": [
       "          disease  no_disease\n",
       "race                         \n",
       "black        4706        7637\n",
       "hispanic      988        1741\n",
       "other        1635        3296\n",
       "white       41613       54736"
      ]
     },
     "execution_count": 21,
     "metadata": {},
     "output_type": "execute_result"
    }
   ],
   "source": [
    "df = beneficiaries[['ismechic_hearth','race']]\n",
    "s1 = df.groupby('race')['ismechic_hearth'].sum()\n",
    "s2 = df.groupby('race').size()\n",
    "df2 = pd.DataFrame({'disease':s1,'no_disease':s2-s1})\n",
    "df2"
   ]
  },
  {
   "cell_type": "markdown",
   "metadata": {},
   "source": [
    "Since we have three groups here, we can either perform the tests between pairs or use chi-square test. Let's use the latter approach:"
   ]
  },
  {
   "cell_type": "code",
   "execution_count": 22,
   "metadata": {
    "collapsed": false
   },
   "outputs": [
    {
     "name": "stdout",
     "output_type": "stream",
     "text": [
      "P-value = 1.06e-70\n"
     ]
    }
   ],
   "source": [
    "chi2, p_val, dof, _ = stats.chi2_contingency(np.array(df2.values))\n",
    "print(\"P-value = {:.2e}\".format(p_val))"
   ]
  },
  {
   "cell_type": "markdown",
   "metadata": {},
   "source": [
    "meaning that at least of the the races have a different distribution of diseases. From the table let's estimate probabilities:"
   ]
  },
  {
   "cell_type": "code",
   "execution_count": 23,
   "metadata": {
    "collapsed": false
   },
   "outputs": [
    {
     "name": "stdout",
     "output_type": "stream",
     "text": [
      "p_black = 0.38, p_hispanic = 0.36, p_other = 0.33, p_white = 0.43\n"
     ]
    }
   ],
   "source": [
    "p_black = df2.loc['black']['disease'] / s2['black']\n",
    "p_hispanic = df2.loc['hispanic']['disease'] / s2['hispanic']\n",
    "p_other = df2.loc['other']['disease'] / s2['other']\n",
    "p_white = df2.loc['white']['disease'] / s2['white']\n",
    "print(\"p_black = {:.2f}, p_hispanic = {:.2f}, p_other = {:.2f}, p_white = {:.2f}\".format(p_black,\n",
    "                                                                                        p_hispanic,\n",
    "                                                                                        p_other,\n",
    "                                                                                        p_white))"
   ]
  },
  {
   "cell_type": "markdown",
   "metadata": {},
   "source": [
    "Black and white patients seem to have the highest probabilities. Let's compute the odds ratio for them:"
   ]
  },
  {
   "cell_type": "code",
   "execution_count": 24,
   "metadata": {
    "collapsed": false
   },
   "outputs": [
    {
     "data": {
      "text/plain": [
       "1.2337490673464673"
      ]
     },
     "execution_count": 24,
     "metadata": {},
     "output_type": "execute_result"
    }
   ],
   "source": [
    "odds_ratio = (p_white/(1-p_white))/(p_black/(1-p_black))\n",
    "odds_ratio"
   ]
  },
  {
   "cell_type": "markdown",
   "metadata": {},
   "source": [
    "meaning, white patients are 1.23 times more likely to have ismechic hearth disease than black patients. Again, this is not a very large effect.\n",
    "\n",
    "Let's repeat the same exercise for **diabetes** :"
   ]
  },
  {
   "cell_type": "code",
   "execution_count": 25,
   "metadata": {
    "collapsed": false
   },
   "outputs": [
    {
     "data": {
      "text/html": [
       "<div>\n",
       "<table border=\"1\" class=\"dataframe\">\n",
       "  <thead>\n",
       "    <tr style=\"text-align: right;\">\n",
       "      <th></th>\n",
       "      <th>disease</th>\n",
       "      <th>no_disease</th>\n",
       "    </tr>\n",
       "    <tr>\n",
       "      <th>race</th>\n",
       "      <th></th>\n",
       "      <th></th>\n",
       "    </tr>\n",
       "  </thead>\n",
       "  <tbody>\n",
       "    <tr>\n",
       "      <th>black</th>\n",
       "      <td>4294</td>\n",
       "      <td>8049</td>\n",
       "    </tr>\n",
       "    <tr>\n",
       "      <th>hispanic</th>\n",
       "      <td>935</td>\n",
       "      <td>1794</td>\n",
       "    </tr>\n",
       "    <tr>\n",
       "      <th>other</th>\n",
       "      <td>1553</td>\n",
       "      <td>3378</td>\n",
       "    </tr>\n",
       "    <tr>\n",
       "      <th>white</th>\n",
       "      <td>37278</td>\n",
       "      <td>59071</td>\n",
       "    </tr>\n",
       "  </tbody>\n",
       "</table>\n",
       "</div>"
      ],
      "text/plain": [
       "          disease  no_disease\n",
       "race                         \n",
       "black        4294        8049\n",
       "hispanic      935        1794\n",
       "other        1553        3378\n",
       "white       37278       59071"
      ]
     },
     "execution_count": 25,
     "metadata": {},
     "output_type": "execute_result"
    }
   ],
   "source": [
    "df = beneficiaries[['diabetes','race']]\n",
    "s1 = df.groupby('race')['diabetes'].sum()\n",
    "s2 = df.groupby('race').size()\n",
    "df2 = pd.DataFrame({'disease':s1,'no_disease':s2-s1})\n",
    "df2"
   ]
  },
  {
   "cell_type": "code",
   "execution_count": 26,
   "metadata": {
    "collapsed": false
   },
   "outputs": [
    {
     "name": "stdout",
     "output_type": "stream",
     "text": [
      "P-value = 2.82e-38\n"
     ]
    }
   ],
   "source": [
    "chi2, p_val, dof, _ = stats.chi2_contingency(np.array(df2.values))\n",
    "print(\"P-value = {:.2e}\".format(p_val))"
   ]
  },
  {
   "cell_type": "code",
   "execution_count": 27,
   "metadata": {
    "collapsed": false
   },
   "outputs": [
    {
     "name": "stdout",
     "output_type": "stream",
     "text": [
      "p_black = 0.35, p_hispanic = 0.34, p_other = 0.31, p_white = 0.39\n"
     ]
    }
   ],
   "source": [
    "p_black = df2.loc['black']['disease'] / s2['black']\n",
    "p_hispanic = df2.loc['hispanic']['disease'] / s2['hispanic']\n",
    "p_other = df2.loc['other']['disease'] / s2['other']\n",
    "p_white = df2.loc['white']['disease'] / s2['white']\n",
    "print(\"p_black = {:.2f}, p_hispanic = {:.2f}, p_other = {:.2f}, p_white = {:.2f}\".format(p_black,\n",
    "                                                                                        p_hispanic,\n",
    "                                                                                        p_other,\n",
    "                                                                                        p_white))"
   ]
  },
  {
   "cell_type": "code",
   "execution_count": 28,
   "metadata": {
    "collapsed": false
   },
   "outputs": [
    {
     "data": {
      "text/plain": [
       "1.1829276093880128"
      ]
     },
     "execution_count": 28,
     "metadata": {},
     "output_type": "execute_result"
    }
   ],
   "source": [
    "odds_ratio = (p_white/(1-p_white))/(p_black/(1-p_black))\n",
    "odds_ratio"
   ]
  },
  {
   "cell_type": "markdown",
   "metadata": {},
   "source": [
    "Similar to ismechic hearth disease, the p-value suggest different distribution of diabetes between races. \n",
    "However, the odds ratio is not significantly large: White patients are 1.19 times more likely to have diabetes than black patients. Again, this is not a very large effect."
   ]
  },
  {
   "cell_type": "markdown",
   "metadata": {},
   "source": [
    "## Conclusions\n",
    "\n",
    "We have made a simple statistical analysis of the medicare costs data and came up with the following conclusions:\n",
    "\n",
    "1. The highest costs of treatment are due to stroke and cancer. While stroke has a higher mean cost than cancer, the difference has a small effect size.\n",
    "2. Overall, diseases are distributed differently between races and sex. This is established by the chi-squared test\n",
    "3. Male patients have a larger probability of having ismechic hearth disease and diabetes (the two most common conditions) than females. However, the odds ratio is only slighlty larger than 1, so the effect is not very significant. \n",
    "4. White patients have a larger probability of having ismechic hearth disease and diabetes than blacks. However, the odds ratio is only slighlty larger than 1, so the effect is not very significant. "
   ]
  }
 ],
 "metadata": {
  "kernelspec": {
   "display_name": "Python 3",
   "language": "python",
   "name": "python3"
  },
  "language_info": {
   "codemirror_mode": {
    "name": "ipython",
    "version": 3
   },
   "file_extension": ".py",
   "mimetype": "text/x-python",
   "name": "python",
   "nbconvert_exporter": "python",
   "pygments_lexer": "ipython3",
   "version": "3.6.0"
  }
 },
 "nbformat": 4,
 "nbformat_minor": 2
}
